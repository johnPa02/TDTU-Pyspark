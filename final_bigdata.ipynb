{
  "nbformat": 4,
  "nbformat_minor": 0,
  "metadata": {
    "colab": {
      "provenance": [],
      "gpuType": "T4"
    },
    "kernelspec": {
      "name": "python3",
      "display_name": "Python 3"
    },
    "language_info": {
      "name": "python"
    },
    "accelerator": "GPU"
  },
  "cells": [
    {
      "cell_type": "code",
      "source": [
        "!pip install pyspark"
      ],
      "metadata": {
        "colab": {
          "base_uri": "https://localhost:8080/"
        },
        "id": "G_ILmeJFhXEj",
        "outputId": "a6e8b770-187e-4b23-8536-0736366353f9"
      },
      "execution_count": null,
      "outputs": [
        {
          "output_type": "stream",
          "name": "stdout",
          "text": [
            "Collecting pyspark\n",
            "  Downloading pyspark-3.5.0.tar.gz (316.9 MB)\n",
            "\u001b[2K     \u001b[90m━━━━━━━━━━━━━━━━━━━━━━━━━━━━━━━━━━━━━━━━\u001b[0m \u001b[32m316.9/316.9 MB\u001b[0m \u001b[31m4.5 MB/s\u001b[0m eta \u001b[36m0:00:00\u001b[0m\n",
            "\u001b[?25h  Preparing metadata (setup.py) ... \u001b[?25l\u001b[?25hdone\n",
            "Requirement already satisfied: py4j==0.10.9.7 in /usr/local/lib/python3.10/dist-packages (from pyspark) (0.10.9.7)\n",
            "Building wheels for collected packages: pyspark\n",
            "  Building wheel for pyspark (setup.py) ... \u001b[?25l\u001b[?25hdone\n",
            "  Created wheel for pyspark: filename=pyspark-3.5.0-py2.py3-none-any.whl size=317425345 sha256=8f2015a2921a6b0bdd1d0d05828ceef25953122b076ac8099dfbad59f6524e34\n",
            "  Stored in directory: /root/.cache/pip/wheels/41/4e/10/c2cf2467f71c678cfc8a6b9ac9241e5e44a01940da8fbb17fc\n",
            "Successfully built pyspark\n",
            "Installing collected packages: pyspark\n",
            "Successfully installed pyspark-3.5.0\n"
          ]
        }
      ]
    },
    {
      "cell_type": "markdown",
      "source": [
        "# Câu 2"
      ],
      "metadata": {
        "id": "wpan5zdHkkSw"
      }
    },
    {
      "cell_type": "code",
      "source": [
        "from pyspark.sql import SparkSession\n",
        "from pyspark.mllib.linalg import Vectors\n",
        "from pyspark.mllib.linalg.distributed import RowMatrix\n",
        "import numpy as np\n",
        "\n",
        "class CIFAR10SVDReducer:\n",
        "    def __init__(self, k=64):\n",
        "        self.spark = SparkSession.builder.appName(\"SVD CIFAR-10\").getOrCreate()\n",
        "        self.k = k\n",
        "\n",
        "    def load_data(self, file_path):\n",
        "        df = self.spark.read.csv(file_path, header=False, inferSchema=True)\n",
        "        return df\n",
        "\n",
        "    @staticmethod\n",
        "    def _convert_to_vector(row):\n",
        "        label = row[0]\n",
        "        features = Vectors.dense(row[1:])\n",
        "        return (label, features)\n",
        "\n",
        "    def reduce_dimensions(self, df):\n",
        "        rows_rdd = df.rdd.map(self._convert_to_vector)\n",
        "        labels, features = zip(*rows_rdd.collect())\n",
        "        mat = RowMatrix(self.spark.sparkContext.parallelize(features))\n",
        "\n",
        "        svd = mat.computeSVD(self.k, computeU=True)\n",
        "        transformed_features = np.array(svd.U.rows.collect())\n",
        "        return labels, transformed_features\n",
        "\n",
        "    @staticmethod\n",
        "    def save_results(file_path, labels, features):\n",
        "        np.savetxt(file_path, np.column_stack((labels, features)), delimiter=\",\")\n",
        "\n",
        "reducer = CIFAR10SVDReducer(k=64)\n",
        "\n",
        "train_df = reducer.load_data(\"cifar10-test-1k.csv\")\n",
        "train_labels, train_features = reducer.reduce_dimensions(train_df)\n",
        "\n",
        "reducer.save_results(\"cifar10-test-svd.csv\", train_labels, train_features)\n"
      ],
      "metadata": {
        "id": "R93UnRTYkjlD"
      },
      "execution_count": null,
      "outputs": []
    },
    {
      "cell_type": "markdown",
      "source": [
        "# Cau 3"
      ],
      "metadata": {
        "id": "xAK8clqpfI-A"
      }
    },
    {
      "cell_type": "code",
      "source": [
        "from pyspark.sql import SparkSession\n",
        "from pyspark.ml.recommendation import ALS\n",
        "from pyspark.sql.functions import col\n",
        "\n",
        "class RatingPredictor:\n",
        "    def __init__(self, data_path):\n",
        "        self.spark = SparkSession.builder.appName(\"RatingPredictor\").getOrCreate()\n",
        "        self.data = self.spark.read.csv(data_path, header=True, inferSchema=True)\n",
        "        self.model = self.train_model()\n",
        "\n",
        "    def train_model(self):\n",
        "        als = ALS(userCol=\"user\", itemCol=\"item\", ratingCol=\"rating\", coldStartStrategy=\"drop\")\n",
        "        model = als.fit(self.data)\n",
        "        return model\n",
        "\n",
        "    def predict_rating(self, userId, itemId, N):\n",
        "        if self.data.filter((col(\"user\") == userId) & (col(\"item\") == itemId)).count() > 0:\n",
        "            return self.data.filter((col(\"user\") == userId) & (col(\"item\") == itemId)).first().rating\n",
        "        elif self.data.filter(col(\"user\") == userId).count() > 0 and self.data.filter(col(\"item\") == itemId).count() > 0:\n",
        "            user_df = self.spark.createDataFrame([(userId, itemId)], [\"user\", \"item\"])\n",
        "            predictions = self.model.transform(user_df)\n",
        "            return predictions.first().prediction\n",
        "        else:\n",
        "            return -1\n",
        "\n",
        "predictor = RatingPredictor(\"ratings2k.csv\")\n",
        "rating = predictor.predict_rating(userId=73, itemId=52, N=10)\n",
        "print(rating)"
      ],
      "metadata": {
        "colab": {
          "base_uri": "https://localhost:8080/"
        },
        "id": "BIf6xZvrfMr_",
        "outputId": "adc83970-b0c7-43ac-ed16-4810a386cbfa"
      },
      "execution_count": null,
      "outputs": [
        {
          "output_type": "stream",
          "name": "stdout",
          "text": [
            "4.0\n"
          ]
        }
      ]
    },
    {
      "cell_type": "markdown",
      "source": [
        "# Câu 5"
      ],
      "metadata": {
        "id": "30osjupSidMc"
      }
    },
    {
      "cell_type": "code",
      "source": [
        "from pyspark.sql import SparkSession\n",
        "from pyspark.ml.feature import VectorAssembler\n",
        "from pyspark.ml.classification import MultilayerPerceptronClassifier, RandomForestClassifier, LinearSVC\n",
        "from pyspark.ml.evaluation import MulticlassClassificationEvaluator\n",
        "import matplotlib.pyplot as plt\n",
        "\n",
        "class DataProcessor:\n",
        "    def __init__(self, file_path):\n",
        "        self.file_path = file_path\n",
        "        self.data_frame = self.load_data()\n",
        "\n",
        "    def load_data(self):\n",
        "        spark = SparkSession.builder.appName(\"CIFAR10Classifier\").getOrCreate()\n",
        "        df = spark.read.csv(self.file_path, header=False, inferSchema=True)\n",
        "        assembler = VectorAssembler(inputCols=df.columns[1:], outputCol=\"features\")\n",
        "        return assembler.transform(df).select(\"_c0\", \"features\").withColumnRenamed(\"_c0\", \"label\")\n"
      ],
      "metadata": {
        "id": "vLgPbZO1igBc"
      },
      "execution_count": null,
      "outputs": []
    },
    {
      "cell_type": "code",
      "source": [
        "class BaseModel:\n",
        "    def __init__(self, model):\n",
        "        self.model = model\n",
        "        self.trained_model = None\n",
        "\n",
        "    def train(self, train_df):\n",
        "        self.trained_model = self.model.fit(train_df)\n",
        "\n",
        "    def evaluate(self, test_df):\n",
        "        evaluator = MulticlassClassificationEvaluator(metricName=\"accuracy\")\n",
        "        predictions = self.trained_model.transform(test_df)\n",
        "        return evaluator.evaluate(predictions)\n",
        "\n",
        "class MLPModel(BaseModel):\n",
        "    def __init__(self, layers):\n",
        "        model = MultilayerPerceptronClassifier(layers=layers, blockSize=128, seed=1234)\n",
        "        super().__init__(model)\n",
        "\n",
        "class RandomForestModel(BaseModel):\n",
        "    def __init__(self, numTrees):\n",
        "        model = RandomForestClassifier(numTrees=numTrees)\n",
        "        super().__init__(model)\n",
        "\n",
        "from pyspark.ml.classification import OneVsRest\n",
        "\n",
        "class SVMModel(BaseModel):\n",
        "    def __init__(self, maxIter, regParam):\n",
        "        svm = LinearSVC(maxIter=maxIter, regParam=regParam)\n",
        "        model = OneVsRest(classifier=svm)\n",
        "        super().__init__(model)\n"
      ],
      "metadata": {
        "id": "oA_Hr7BcKEZO"
      },
      "execution_count": null,
      "outputs": []
    },
    {
      "cell_type": "code",
      "source": [
        "class CIFAR10Classifier:\n",
        "    def __init__(self):\n",
        "        self.models = {\n",
        "            \"MLP\": MLPModel(layers=[1024, 512, 256, 10]),\n",
        "            \"Random Forest\": RandomForestModel(numTrees=10),\n",
        "            \"SVM\": SVMModel(maxIter=10, regParam=0.1)\n",
        "        }\n",
        "\n",
        "    def run(self, train_data, test_data, k=None):\n",
        "        results = {}\n",
        "        if k != None:\n",
        "            self.models[\"MLP\"] =  MLPModel(layers=[k, 512, 256, 10])\n",
        "        for name, model in self.models.items():\n",
        "            model.train(train_data)\n",
        "            accuracy_train = model.evaluate(train_data)\n",
        "            accuracy_test = model.evaluate(test_data)\n",
        "            results[name] = (accuracy_train, accuracy_test)\n",
        "        return results\n",
        "\n",
        "    def plot_results(self, results, results_svd):\n",
        "        import numpy as np\n",
        "        import matplotlib.pyplot as plt\n",
        "\n",
        "        # Chuẩn bị dữ liệu cho biểu đồ\n",
        "        models = list(results.keys())\n",
        "        accuracies_train = [results[m][0] for m in models]\n",
        "        accuracies_test = [results[m][1] for m in models]\n",
        "        accuracies_train_svd = [results_svd[m][0] for m in models]\n",
        "        accuracies_test_svd = [results_svd[m][1] for m in models]\n",
        "\n",
        "        x = np.arange(len(models))  # vị trí label trên trục x\n",
        "        width = 0.2  # độ rộng của cột\n",
        "\n",
        "        fig, ax = plt.subplots()\n",
        "        rects1 = ax.bar(x - 1.5*width, accuracies_train, width, label='Train')\n",
        "        rects2 = ax.bar(x - 0.5*width, accuracies_test, width, label='Test')\n",
        "        rects3 = ax.bar(x + 0.5*width, accuracies_train_svd, width, label='Train-SVD')\n",
        "        rects4 = ax.bar(x + 1.5*width, accuracies_test_svd, width, label='Test-SVD')\n",
        "\n",
        "        # Thêm labels và title\n",
        "        ax.set_ylabel('Accuracy')\n",
        "        ax.set_title('Accuracy by Model and Dataset')\n",
        "        ax.set_xticks(x)\n",
        "        ax.set_xticklabels(models)\n",
        "        ax.legend()\n",
        "\n",
        "        # Hiển thị biểu đồ\n",
        "        plt.show()\n"
      ],
      "metadata": {
        "id": "xUR9aG6CKLde"
      },
      "execution_count": null,
      "outputs": []
    },
    {
      "cell_type": "code",
      "source": [
        "# Khởi tạo và xử lý dữ liệu\n",
        "train_processor = DataProcessor(\"cifar10-train-5k.csv\")\n",
        "test_processor = DataProcessor(\"cifar10-test-1k.csv\")\n",
        "train_svd_processor = DataProcessor(\"cifar10-train-svd.csv\")\n",
        "test_svd_processor = DataProcessor(\"cifar10-test-svd.csv\")\n",
        "\n",
        "# Khởi tạo và chạy classifier\n",
        "classifier = CIFAR10Classifier()\n",
        "results = classifier.run(train_processor.data_frame, test_processor.data_frame)\n",
        "results_svd = classifier.run(train_svd_processor.data_frame, test_svd_processor.data_frame, k = 64)\n",
        "\n",
        "# Vẽ biểu đồ\n",
        "classifier.plot_results(results, results_svd)"
      ],
      "metadata": {
        "colab": {
          "base_uri": "https://localhost:8080/",
          "height": 452
        },
        "id": "LV4jcfOOKuC2",
        "outputId": "cded4e78-3fc6-4492-b141-7a3d524966d0"
      },
      "execution_count": null,
      "outputs": [
        {
          "output_type": "display_data",
          "data": {
            "text/plain": [
              "<Figure size 640x480 with 1 Axes>"
            ],
            "image/png": "[encoded data removed]"
          },
          "metadata": {}
        }
      ]
    }
  ]
}